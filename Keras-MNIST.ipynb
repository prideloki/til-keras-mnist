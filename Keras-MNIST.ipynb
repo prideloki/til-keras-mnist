{
 "cells": [
  {
   "cell_type": "markdown",
   "metadata": {},
   "source": [
    "# MNIST using Keras"
   ]
  },
  {
   "cell_type": "code",
   "execution_count": 1,
   "metadata": {},
   "outputs": [
    {
     "name": "stderr",
     "output_type": "stream",
     "text": [
      "Using TensorFlow backend.\n"
     ]
    }
   ],
   "source": [
    "from keras.datasets import mnist\n",
    "import matplotlib.pyplot as plt\n"
   ]
  },
  {
   "cell_type": "markdown",
   "metadata": {},
   "source": [
    "## Download the MNIST dataset"
   ]
  },
  {
   "cell_type": "code",
   "execution_count": 2,
   "metadata": {
    "collapsed": true
   },
   "outputs": [],
   "source": [
    "(X_train, y_train), (X_test, y_test) = mnist.load_data()"
   ]
  },
  {
   "cell_type": "code",
   "execution_count": 3,
   "metadata": {},
   "outputs": [
    {
     "data": {
      "text/plain": [
       "<matplotlib.image.AxesImage at 0x1299b5cf8>"
      ]
     },
     "execution_count": 3,
     "metadata": {},
     "output_type": "execute_result"
    }
   ],
   "source": [
    "plt.subplot(221) \n",
    "plt.imshow(X_train[0], cmap = plt.get_cmap('gray'))\n",
    "plt.subplot(222)\n",
    "plt.imshow(X_train[1], cmap = plt.get_cmap('gray'))\n",
    "plt.subplot(223)\n",
    "plt.imshow(X_train[2], cmap = plt.get_cmap('gray'))\n",
    "plt.subplot(224)\n",
    "plt.imshow(X_train[3], cmap = plt.get_cmap('gray'))"
   ]
  },
  {
   "cell_type": "markdown",
   "metadata": {},
   "source": [
    "`plt.subplot(221) `\n",
    "\n",
    "2 - nrows\n",
    "\n",
    "2 - ncols\n",
    "\n",
    "1 - plot_number\n",
    "\n",
    "> In the case when nrows, ncols and plot_number are all less than 10, a convenience exists, such that the a 3 digit number can be given instead, where the hundreds represent nrows, the tens represent ncols and the units represent plot_number. "
   ]
  },
  {
   "cell_type": "code",
   "execution_count": 4,
   "metadata": {},
   "outputs": [
    {
     "data": {
      "image/png": "[encoded data removed]",
      "text/plain": [
       "<matplotlib.figure.Figure at 0x10ec41710>"
      ]
     },
     "metadata": {},
     "output_type": "display_data"
    }
   ],
   "source": [
    "plt.show()"
   ]
  },
  {
   "cell_type": "markdown",
   "metadata": {},
   "source": [
    "## Explore the dataset"
   ]
  },
  {
   "cell_type": "markdown",
   "metadata": {},
   "source": [
    "one digit is represent in 28x28 pixels"
   ]
  },
  {
   "cell_type": "code",
   "execution_count": 5,
   "metadata": {},
   "outputs": [
    {
     "data": {
      "text/plain": [
       "(28, 28)"
      ]
     },
     "execution_count": 5,
     "metadata": {},
     "output_type": "execute_result"
    }
   ],
   "source": [
    "X_train[0].shape"
   ]
  },
  {
   "cell_type": "code",
   "execution_count": 6,
   "metadata": {},
   "outputs": [
    {
     "data": {
      "text/plain": [
       "(60000, 28, 28)"
      ]
     },
     "execution_count": 6,
     "metadata": {},
     "output_type": "execute_result"
    }
   ],
   "source": [
    "X_train.shape"
   ]
  },
  {
   "cell_type": "markdown",
   "metadata": {},
   "source": [
    "60,000 data, each of this is a 28x28 pixels"
   ]
  },
  {
   "cell_type": "markdown",
   "metadata": {},
   "source": [
    "## Baseline model with multi-later perceptrons\n",
    "\n",
    "simple neural network model with a single hidden layer"
   ]
  },
  {
   "cell_type": "code",
   "execution_count": 7,
   "metadata": {
    "collapsed": true
   },
   "outputs": [],
   "source": [
    "import numpy as np\n",
    "from keras.models import Sequential\n",
    "from keras.datasets import mnist\n",
    "from keras.layers import Dense\n",
    "from keras.layers import Dropout\n",
    "from keras.utils import np_utils"
   ]
  },
  {
   "cell_type": "code",
   "execution_count": 8,
   "metadata": {
    "collapsed": true
   },
   "outputs": [],
   "source": [
    "seed = 7\n",
    "np.random.seed(seed)"
   ]
  },
  {
   "cell_type": "code",
   "execution_count": 9,
   "metadata": {},
   "outputs": [
    {
     "data": {
      "text/plain": [
       "784"
      ]
     },
     "execution_count": 9,
     "metadata": {},
     "output_type": "execute_result"
    }
   ],
   "source": [
    "(X_train, y_train) , (X_test, y_test) = mnist.load_data()\n",
    "num_pixels = X_train.shape[1] * X_train.shape[2]\n",
    "num_pixels"
   ]
  },
  {
   "cell_type": "markdown",
   "metadata": {},
   "source": [
    "flatten 28*28 images to a long vector (784 slots)"
   ]
  },
  {
   "cell_type": "code",
   "execution_count": 10,
   "metadata": {
    "collapsed": true
   },
   "outputs": [],
   "source": [
    "X_train = X_train.reshape(X_train.shape[0], num_pixels).astype('float32')\n",
    "X_test = X_test.reshape(X_test.shape[0], num_pixels).astype('float32')"
   ]
  },
  {
   "cell_type": "markdown",
   "metadata": {},
   "source": [
    "reshape function:\n",
    "- array\n",
    "- newshape (int)\n",
    "\n"
   ]
  },
  {
   "cell_type": "markdown",
   "metadata": {},
   "source": [
    "normalize the data. the values are scale between 0 and 255"
   ]
  },
  {
   "cell_type": "code",
   "execution_count": 11,
   "metadata": {
    "collapsed": true
   },
   "outputs": [],
   "source": [
    "X_train = X_train / 255\n",
    "X_test = X_test / 255"
   ]
  },
  {
   "cell_type": "markdown",
   "metadata": {},
   "source": [
    "hot encoding the categorical values"
   ]
  },
  {
   "cell_type": "code",
   "execution_count": 12,
   "metadata": {
    "collapsed": true
   },
   "outputs": [],
   "source": [
    "y_train = np_utils.to_categorical(y_train)\n",
    "y_test = np_utils.to_categorical(y_test)"
   ]
  },
  {
   "cell_type": "code",
   "execution_count": 13,
   "metadata": {
    "collapsed": true
   },
   "outputs": [],
   "source": [
    "num_classes = y_test.shape[1]"
   ]
  },
  {
   "cell_type": "code",
   "execution_count": 14,
   "metadata": {},
   "outputs": [
    {
     "data": {
      "text/plain": [
       "10"
      ]
     },
     "execution_count": 14,
     "metadata": {},
     "output_type": "execute_result"
    }
   ],
   "source": [
    "num_classes"
   ]
  },
  {
   "cell_type": "code",
   "execution_count": 15,
   "metadata": {
    "collapsed": true
   },
   "outputs": [],
   "source": [
    "def baseline_model():\n",
    "    model = Sequential()\n",
    "    model.add(Dense(num_pixels, input_dim = num_pixels, kernel_initializer = 'normal', activation = 'relu'))\n",
    "    # output layer\n",
    "    model.add(Dense(num_classes, kernel_initializer='normal', activation='softmax'))\n",
    "    model.compile(loss='categorical_crossentropy', optimizer = 'adam', metrics = ['accuracy'])\n",
    "    return model"
   ]
  },
  {
   "cell_type": "markdown",
   "metadata": {},
   "source": [
    "- use `softmax` activation on output layer.\n",
    "- categorical_crossentropy = logarithmic loss.\n",
    "- `adam` optimization.\n",
    "- There is one hiden layer.\n",
    "- `softmax` activation turn the outputs into proability-like values\n"
   ]
  },
  {
   "cell_type": "code",
   "execution_count": 16,
   "metadata": {},
   "outputs": [
    {
     "name": "stdout",
     "output_type": "stream",
     "text": [
      "Train on 60000 samples, validate on 10000 samples\n",
      "Epoch 1/10\n",
      "8s - loss: 0.2789 - acc: 0.9207 - val_loss: 0.1419 - val_acc: 0.9571\n",
      "Epoch 2/10\n",
      "7s - loss: 0.1117 - acc: 0.9676 - val_loss: 0.0920 - val_acc: 0.9707\n",
      "Epoch 3/10\n",
      "7s - loss: 0.0717 - acc: 0.9795 - val_loss: 0.0789 - val_acc: 0.9771\n",
      "Epoch 4/10\n",
      "7s - loss: 0.0501 - acc: 0.9858 - val_loss: 0.0745 - val_acc: 0.9764\n",
      "Epoch 5/10\n",
      "8s - loss: 0.0372 - acc: 0.9892 - val_loss: 0.0669 - val_acc: 0.9797\n",
      "Epoch 6/10\n",
      "7s - loss: 0.0268 - acc: 0.9928 - val_loss: 0.0634 - val_acc: 0.9804\n",
      "Epoch 7/10\n",
      "7s - loss: 0.0207 - acc: 0.9945 - val_loss: 0.0624 - val_acc: 0.9810\n",
      "Epoch 8/10\n",
      "8s - loss: 0.0143 - acc: 0.9968 - val_loss: 0.0635 - val_acc: 0.9794\n",
      "Epoch 9/10\n",
      "7s - loss: 0.0111 - acc: 0.9978 - val_loss: 0.0590 - val_acc: 0.9816\n",
      "Epoch 10/10\n",
      "10s - loss: 0.0079 - acc: 0.9985 - val_loss: 0.0575 - val_acc: 0.9816\n",
      "Baseline Error: 1.84%\n"
     ]
    }
   ],
   "source": [
    "model = baseline_model()\n",
    "model.fit(X_train, y_train, validation_data = (X_test, y_test), epochs=10, batch_size=200,verbose=2)\n",
    "scores = model.evaluate(X_test, y_test, verbose = 0)\n",
    "print(\"Baseline Error: %.2f%%\" % (100-scores[1]*100))"
   ]
  },
  {
   "cell_type": "markdown",
   "metadata": {},
   "source": [
    "## Simple convolutional neural network for MNIST"
   ]
  },
  {
   "cell_type": "code",
   "execution_count": 17,
   "metadata": {
    "collapsed": true
   },
   "outputs": [],
   "source": [
    "from keras.layers import Dropout\n",
    "from keras.layers import Flatten\n",
    "from keras.layers.convolutional import Conv2D\n",
    "from keras.layers.convolutional import MaxPooling2D\n",
    "from keras.utils import np_utils\n",
    "from keras import backend as K\n",
    "K.set_image_dim_ordering('th')"
   ]
  },
  {
   "cell_type": "code",
   "execution_count": 18,
   "metadata": {
    "collapsed": true
   },
   "outputs": [],
   "source": [
    "(X_train, y_train), (X_test, y_test) = mnist.load_data()\n",
    "X_train = X_train.reshape(X_train.shape[0],1,28,28).astype('float32')\n",
    "X_test = X_test.reshape(X_test.shape[0],1,28,28).astype('float32')"
   ]
  },
  {
   "cell_type": "code",
   "execution_count": 19,
   "metadata": {},
   "outputs": [
    {
     "data": {
      "text/plain": [
       "(1, 28, 28)"
      ]
     },
     "execution_count": 19,
     "metadata": {},
     "output_type": "execute_result"
    }
   ],
   "source": [
    "X_train[0].shape"
   ]
  },
  {
   "cell_type": "markdown",
   "metadata": {},
   "source": [
    "normalize the data, gray color has value range between 0 and 255"
   ]
  },
  {
   "cell_type": "code",
   "execution_count": 20,
   "metadata": {
    "collapsed": true
   },
   "outputs": [],
   "source": [
    "X_train = X_train / 255\n",
    "X_test = X_test / 255\n",
    "y_train = np_utils.to_categorical(y_train)\n",
    "y_test = np_utils.to_categorical(y_test)\n",
    "num_classes = y_test.shape[1]"
   ]
  },
  {
   "cell_type": "code",
   "execution_count": 21,
   "metadata": {},
   "outputs": [
    {
     "data": {
      "text/plain": [
       "(10000, 10)"
      ]
     },
     "execution_count": 21,
     "metadata": {},
     "output_type": "execute_result"
    }
   ],
   "source": [
    "y_test.shape"
   ]
  },
  {
   "cell_type": "code",
   "execution_count": 22,
   "metadata": {
    "collapsed": true
   },
   "outputs": [],
   "source": [
    "def baseline_model():\n",
    "    model = Sequential()\n",
    "    model.add(Conv2D(32, (5,5), input_shape = (1, 28, 28), activation='relu'))\n",
    "    model.add(MaxPooling2D(pool_size=(2,2)))\n",
    "    model.add(Dropout(0.2))\n",
    "    model.add(Flatten())\n",
    "    model.add(Dense(128, activation='relu'))\n",
    "    model.add(Dense(num_classes, activation='softmax'))\n",
    "    \n",
    "    model.compile(loss='categorical_crossentropy', optimizer='adam', metrics=['accuracy'])\n",
    "    return model"
   ]
  },
  {
   "cell_type": "markdown",
   "metadata": {},
   "source": [
    "1st hidden layer:\n",
    "- convolutional layer(Convolution2D)\n",
    "- has 32 features\n",
    "- rectifier activation function\n",
    "- expect image with the structure outline [pixel][width][height]\n",
    "\n",
    "2nd layer:\n",
    "- pooling layer\n",
    "- MaxPooling2D\n",
    "- size 2x2\n",
    "\n",
    "3rd layer:\n",
    "- regulasize layer\n",
    "- using dropout called Dropout\n",
    "- randomly exclude 20% of neurons, reduce overfitting\n",
    "\n",
    "4th layer:\n",
    "- Convert 2D matrix to a vector\n",
    "\n",
    "5th layer:\n",
    "- connect 128 neurons\n",
    "\n",
    "6th layer:\n",
    "- 10 neurons for the 10 classes\n",
    "- softmax activation func"
   ]
  },
  {
   "cell_type": "code",
   "execution_count": 23,
   "metadata": {},
   "outputs": [
    {
     "name": "stdout",
     "output_type": "stream",
     "text": [
      "Train on 60000 samples, validate on 10000 samples\n",
      "Epoch 1/10\n",
      "182s - loss: 0.2457 - acc: 0.9298 - val_loss: 0.0733 - val_acc: 0.9779\n",
      "Epoch 2/10\n",
      "184s - loss: 0.0736 - acc: 0.9785 - val_loss: 0.0480 - val_acc: 0.9852\n",
      "Epoch 3/10\n",
      "150s - loss: 0.0525 - acc: 0.9844 - val_loss: 0.0401 - val_acc: 0.9873\n",
      "Epoch 4/10\n",
      "138s - loss: 0.0400 - acc: 0.9876 - val_loss: 0.0386 - val_acc: 0.9877\n",
      "Epoch 5/10\n",
      "155s - loss: 0.0339 - acc: 0.9893 - val_loss: 0.0446 - val_acc: 0.9863\n",
      "Epoch 6/10\n",
      "148s - loss: 0.0280 - acc: 0.9911 - val_loss: 0.0346 - val_acc: 0.9884\n",
      "Epoch 7/10\n",
      "154s - loss: 0.0231 - acc: 0.9922 - val_loss: 0.0352 - val_acc: 0.9884\n",
      "Epoch 8/10\n",
      "149s - loss: 0.0206 - acc: 0.9937 - val_loss: 0.0290 - val_acc: 0.9906\n",
      "Epoch 9/10\n",
      "142s - loss: 0.0172 - acc: 0.9945 - val_loss: 0.0365 - val_acc: 0.9886\n",
      "Epoch 10/10\n",
      "136s - loss: 0.0151 - acc: 0.9951 - val_loss: 0.0319 - val_acc: 0.9896\n",
      "Baseline Error: 1.04%\n"
     ]
    }
   ],
   "source": [
    "model = baseline_model()\n",
    "\n",
    "model.fit(X_train, y_train, validation_data=(X_test, y_test), epochs=10, batch_size=200, verbose=2)\n",
    "\n",
    "scores = model.evaluate(X_test, y_test, verbose=0)\n",
    "print(\"Baseline Error: %.2f%%\" % (100-scores[1]*100))"
   ]
  },
  {
   "cell_type": "markdown",
   "metadata": {},
   "source": [
    "## Larger convolutional neural network for MNIST"
   ]
  },
  {
   "cell_type": "code",
   "execution_count": 24,
   "metadata": {
    "collapsed": true
   },
   "outputs": [],
   "source": [
    "import numpy as np\n",
    "from keras.datasets import mnist\n",
    "from keras.models import Sequential\n",
    "from keras.layers import Dense\n",
    "from keras.layers import Dropout\n",
    "from keras.layers import Flatten\n",
    "from keras.layers.convolutional import Conv2D\n",
    "from keras.layers.convolutional import MaxPooling2D\n",
    "from keras.utils import np_utils\n",
    "from keras import backend as K\n",
    "K.set_image_dim_ordering('th')"
   ]
  },
  {
   "cell_type": "code",
   "execution_count": 25,
   "metadata": {
    "collapsed": true
   },
   "outputs": [],
   "source": [
    "(X_train, y_train), (X_test, y_test) = mnist.load_data()"
   ]
  },
  {
   "cell_type": "code",
   "execution_count": 26,
   "metadata": {
    "collapsed": true
   },
   "outputs": [],
   "source": [
    "X_train = X_train.reshape(X_train.shape[0], 1, 28, 28).astype('float32')\n",
    "X_test = X_test.reshape(X_test.shape[0], 1, 28, 28).astype('float32')"
   ]
  },
  {
   "cell_type": "code",
   "execution_count": 27,
   "metadata": {
    "collapsed": true
   },
   "outputs": [],
   "source": [
    "X_train = X_train / 255\n",
    "X_test = X_test / 255"
   ]
  },
  {
   "cell_type": "code",
   "execution_count": 28,
   "metadata": {
    "collapsed": true
   },
   "outputs": [],
   "source": [
    "y_train = np_utils.to_categorical(y_train)\n",
    "y_test = np_utils.to_categorical(y_test)\n",
    "num_classes = y_test.shape[1]"
   ]
  },
  {
   "cell_type": "code",
   "execution_count": 29,
   "metadata": {
    "collapsed": true
   },
   "outputs": [],
   "source": [
    "def larger_model():\n",
    "    model = Sequential()\n",
    "    model.add(Conv2D(30, (5, 5), input_shape = (1, 28 ,28), activation = 'relu'))\n",
    "    model.add(MaxPooling2D(pool_size = (2, 2)))\n",
    "    model.add(Conv2D(15, (3, 3), activation='relu'))\n",
    "    model.add(MaxPooling2D(pool_size = (2, 2)))\n",
    "    model.add(Dropout(0.2))\n",
    "    model.add(Flatten())\n",
    "    model.add(Dense(128, activation='relu'))\n",
    "    model.add(Dense(50, activation='relu'))\n",
    "    model.add(Dense(num_classes, activation='softmax'))\n",
    "    \n",
    "    model.compile(loss='categorical_crossentropy', optimizer = 'adam', metrics = ['accuracy'])\n",
    "    return model"
   ]
  },
  {
   "cell_type": "markdown",
   "metadata": {},
   "source": [
    "1st hidden layer:\n",
    "- convolutional layer(Convolution2D)\n",
    "- has 30 features\n",
    "- rectifier activation function\n",
    "- expect image with the structure outline [pixel][width][height]\n",
    "- map of size 5x5\n",
    "\n",
    "2nd layer:\n",
    "- pooling layer\n",
    "- MaxPooling2D\n",
    "- size 2x2\n",
    "\n",
    "3rd layer:\n",
    "- convolutional layer(Convolution2D)\n",
    "- has 15 features\n",
    "- rectifier activation function\n",
    "- map of size 3x3\n",
    "\n",
    "4th layer:\n",
    "- pooling layer\n",
    "- MaxPooling2D\n",
    "- size 2x2\n",
    "\n",
    "5th layer:\n",
    "- regulasize layer\n",
    "- using dropout called Dropout\n",
    "- randomly exclude 20% of neurons, reduce overfitting\n",
    "\n",
    "4th layer:\n",
    "- Convert 2D matrix to a vector\n",
    "\n",
    "5th layer:\n",
    "- connect 128 neurons and rectifier activation\n",
    "\n",
    "6th layer:\n",
    "- connect 50 neurons and rectifier activation\n",
    "\n",
    "6th layer:\n",
    "- 10 neurons for the 10 classes\n",
    "- softmax activation func"
   ]
  },
  {
   "cell_type": "code",
   "execution_count": 30,
   "metadata": {},
   "outputs": [
    {
     "name": "stdout",
     "output_type": "stream",
     "text": [
      "Train on 60000 samples, validate on 10000 samples\n",
      "Epoch 1/10\n",
      "60000/60000 [==============================] - 166s - loss: 0.3772 - acc: 0.8835 - val_loss: 0.0867 - val_acc: 0.9723\n",
      "Epoch 2/10\n",
      "60000/60000 [==============================] - 167s - loss: 0.0977 - acc: 0.9694 - val_loss: 0.0554 - val_acc: 0.9824\n",
      "Epoch 3/10\n",
      "60000/60000 [==============================] - 174s - loss: 0.0703 - acc: 0.9777 - val_loss: 0.0433 - val_acc: 0.9861\n",
      "Epoch 4/10\n",
      "60000/60000 [==============================] - 163s - loss: 0.0572 - acc: 0.9820 - val_loss: 0.0363 - val_acc: 0.9879\n",
      "Epoch 5/10\n",
      "60000/60000 [==============================] - 167s - loss: 0.0491 - acc: 0.9844 - val_loss: 0.0302 - val_acc: 0.9894\n",
      "Epoch 6/10\n",
      "60000/60000 [==============================] - 167s - loss: 0.0430 - acc: 0.9864 - val_loss: 0.0323 - val_acc: 0.9890\n",
      "Epoch 7/10\n",
      "60000/60000 [==============================] - 167s - loss: 0.0387 - acc: 0.9875 - val_loss: 0.0309 - val_acc: 0.9899\n",
      "Epoch 8/10\n",
      "60000/60000 [==============================] - 163s - loss: 0.0342 - acc: 0.9893 - val_loss: 0.0282 - val_acc: 0.9905\n",
      "Epoch 9/10\n",
      "60000/60000 [==============================] - 157s - loss: 0.0305 - acc: 0.9900 - val_loss: 0.0238 - val_acc: 0.9918\n",
      "Epoch 10/10\n",
      "60000/60000 [==============================] - 152s - loss: 0.0287 - acc: 0.9906 - val_loss: 0.0244 - val_acc: 0.9920\n",
      "Large CNN Error: 0.80%\n"
     ]
    }
   ],
   "source": [
    "model = larger_model()\n",
    "model.fit(X_train, y_train, validation_data = (X_test, y_test), epochs = 10, batch_size = 200)\n",
    "\n",
    "scores = model.evaluate(X_test, y_test, verbose = 0)\n",
    "print(\"Large CNN Error: %.2f%%\" % (100 - scores[1] * 100))"
   ]
  },
  {
   "cell_type": "code",
   "execution_count": null,
   "metadata": {
    "collapsed": true
   },
   "outputs": [],
   "source": []
  },
  {
   "cell_type": "code",
   "execution_count": null,
   "metadata": {
    "collapsed": true
   },
   "outputs": [],
   "source": []
  }
 ],
 "metadata": {
  "kernelspec": {
   "display_name": "Python 3",
   "language": "python",
   "name": "python3"
  },
  "language_info": {
   "codemirror_mode": {
    "name": "ipython",
    "version": 3
   },
   "file_extension": ".py",
   "mimetype": "text/x-python",
   "name": "python",
   "nbconvert_exporter": "python",
   "pygments_lexer": "ipython3",
   "version": "3.6.1"
  }
 },
 "nbformat": 4,
 "nbformat_minor": 2
}
